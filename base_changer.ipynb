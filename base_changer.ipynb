{
 "cells": [
  {
   "cell_type": "code",
   "execution_count": 1,
   "id": "8cb6c535",
   "metadata": {},
   "outputs": [],
   "source": [
    "import numpy as np"
   ]
  },
  {
   "cell_type": "code",
   "execution_count": 2,
   "id": "971aeeb3",
   "metadata": {},
   "outputs": [],
   "source": [
    "def basech(a,d):\n",
    "    he=0\n",
    "    k=0\n",
    "    while a>=d**he:\n",
    "        he+=1\n",
    "    he-=1\n",
    "    while a>=k*(d**(he)) and k<d:\n",
    "        k+=1\n",
    "    k-=1\n",
    "    return(k,a-(k*(d**(he))),he)"
   ]
  },
  {
   "cell_type": "code",
   "execution_count": 3,
   "id": "45b1b2ef",
   "metadata": {},
   "outputs": [],
   "source": [
    "#returns digits and base\n",
    "def conv(x,b):\n",
    "    if x==0:\n",
    "        return('0',b)\n",
    "    else:\n",
    "        v=x\n",
    "        en=np.zeros(int(basech(v,b)[2]+1))\n",
    "        while v!=0:\n",
    "            dg=0\n",
    "            (dg,v,p)=basech(v,b)\n",
    "            en[len(en)-p-1]=dg\n",
    "        out=''\n",
    "        for a in en:\n",
    "            out=out+(str(int(a)))\n",
    "        return(out,b)"
   ]
  },
  {
   "cell_type": "code",
   "execution_count": 4,
   "id": "a76526ca",
   "metadata": {},
   "outputs": [
    {
     "data": {
      "text/plain": [
       "('1000101', 2)"
      ]
     },
     "execution_count": 4,
     "metadata": {},
     "output_type": "execute_result"
    }
   ],
   "source": [
    "conv(69,2)"
   ]
  },
  {
   "cell_type": "code",
   "execution_count": 8,
   "id": "0bc5957b",
   "metadata": {},
   "outputs": [
    {
     "name": "stdout",
     "output_type": "stream",
     "text": [
      "(0)₁₀  = (0) in base 4\n",
      "(1)₁₀  = (1) in base 4\n",
      "(2)₁₀  = (2) in base 4\n",
      "(3)₁₀  = (3) in base 4\n",
      "(4)₁₀  = (10) in base 4\n",
      "(5)₁₀  = (11) in base 4\n",
      "(6)₁₀  = (12) in base 4\n",
      "(7)₁₀  = (13) in base 4\n",
      "(8)₁₀  = (20) in base 4\n",
      "(9)₁₀  = (21) in base 4\n",
      "(10)₁₀  = (22) in base 4\n",
      "(11)₁₀  = (23) in base 4\n",
      "(12)₁₀  = (30) in base 4\n",
      "(13)₁₀  = (31) in base 4\n",
      "(14)₁₀  = (32) in base 4\n",
      "(15)₁₀  = (33) in base 4\n",
      "(16)₁₀  = (100) in base 4\n",
      "(17)₁₀  = (101) in base 4\n",
      "(18)₁₀  = (102) in base 4\n",
      "(19)₁₀  = (103) in base 4\n",
      "(20)₁₀  = (110) in base 4\n",
      "(21)₁₀  = (111) in base 4\n",
      "(22)₁₀  = (112) in base 4\n",
      "(23)₁₀  = (113) in base 4\n",
      "(24)₁₀  = (120) in base 4\n",
      "(25)₁₀  = (121) in base 4\n",
      "(26)₁₀  = (122) in base 4\n",
      "(27)₁₀  = (123) in base 4\n",
      "(28)₁₀  = (130) in base 4\n",
      "(29)₁₀  = (131) in base 4\n",
      "(30)₁₀  = (132) in base 4\n",
      "(31)₁₀  = (133) in base 4\n",
      "(32)₁₀  = (200) in base 4\n",
      "(33)₁₀  = (201) in base 4\n",
      "(34)₁₀  = (202) in base 4\n",
      "(35)₁₀  = (203) in base 4\n",
      "(36)₁₀  = (210) in base 4\n",
      "(37)₁₀  = (211) in base 4\n",
      "(38)₁₀  = (212) in base 4\n",
      "(39)₁₀  = (213) in base 4\n",
      "(40)₁₀  = (220) in base 4\n",
      "(41)₁₀  = (221) in base 4\n",
      "(42)₁₀  = (222) in base 4\n",
      "(43)₁₀  = (223) in base 4\n",
      "(44)₁₀  = (230) in base 4\n",
      "(45)₁₀  = (231) in base 4\n",
      "(46)₁₀  = (232) in base 4\n",
      "(47)₁₀  = (233) in base 4\n",
      "(48)₁₀  = (300) in base 4\n",
      "(49)₁₀  = (301) in base 4\n",
      "(50)₁₀  = (302) in base 4\n",
      "(51)₁₀  = (303) in base 4\n",
      "(52)₁₀  = (310) in base 4\n",
      "(53)₁₀  = (311) in base 4\n",
      "(54)₁₀  = (312) in base 4\n",
      "(55)₁₀  = (313) in base 4\n",
      "(56)₁₀  = (320) in base 4\n",
      "(57)₁₀  = (321) in base 4\n",
      "(58)₁₀  = (322) in base 4\n",
      "(59)₁₀  = (323) in base 4\n",
      "(60)₁₀  = (330) in base 4\n",
      "(61)₁₀  = (331) in base 4\n",
      "(62)₁₀  = (332) in base 4\n",
      "(63)₁₀  = (333) in base 4\n",
      "(64)₁₀  = (1000) in base 4\n",
      "(65)₁₀  = (1001) in base 4\n",
      "(66)₁₀  = (1002) in base 4\n",
      "(67)₁₀  = (1003) in base 4\n",
      "(68)₁₀  = (1010) in base 4\n",
      "(69)₁₀  = (1011) in base 4\n",
      "(70)₁₀  = (1012) in base 4\n",
      "(71)₁₀  = (1013) in base 4\n",
      "(72)₁₀  = (1020) in base 4\n",
      "(73)₁₀  = (1021) in base 4\n",
      "(74)₁₀  = (1022) in base 4\n",
      "(75)₁₀  = (1023) in base 4\n",
      "(76)₁₀  = (1030) in base 4\n",
      "(77)₁₀  = (1031) in base 4\n",
      "(78)₁₀  = (1032) in base 4\n",
      "(79)₁₀  = (1033) in base 4\n",
      "(80)₁₀  = (1100) in base 4\n",
      "(81)₁₀  = (1101) in base 4\n",
      "(82)₁₀  = (1102) in base 4\n",
      "(83)₁₀  = (1103) in base 4\n",
      "(84)₁₀  = (1110) in base 4\n",
      "(85)₁₀  = (1111) in base 4\n",
      "(86)₁₀  = (1112) in base 4\n",
      "(87)₁₀  = (1113) in base 4\n",
      "(88)₁₀  = (1120) in base 4\n",
      "(89)₁₀  = (1121) in base 4\n",
      "(90)₁₀  = (1122) in base 4\n",
      "(91)₁₀  = (1123) in base 4\n",
      "(92)₁₀  = (1130) in base 4\n",
      "(93)₁₀  = (1131) in base 4\n",
      "(94)₁₀  = (1132) in base 4\n",
      "(95)₁₀  = (1133) in base 4\n",
      "(96)₁₀  = (1200) in base 4\n",
      "(97)₁₀  = (1201) in base 4\n",
      "(98)₁₀  = (1202) in base 4\n",
      "(99)₁₀  = (1203) in base 4\n"
     ]
    }
   ],
   "source": [
    "for j in range(100):\n",
    "    given=conv(j,4)\n",
    "    print('('+str(j)+')\\u2081\\u2080  = ('+given[0]+') in base {}'.format(given[1]))"
   ]
  },
  {
   "cell_type": "code",
   "execution_count": 6,
   "id": "a2a4e7b0",
   "metadata": {},
   "outputs": [
    {
     "data": {
      "text/plain": [
       "'0'"
      ]
     },
     "execution_count": 6,
     "metadata": {},
     "output_type": "execute_result"
    }
   ],
   "source": [
    "str(0)"
   ]
  },
  {
   "cell_type": "code",
   "execution_count": 7,
   "id": "ca185aa6",
   "metadata": {},
   "outputs": [
    {
     "data": {
      "text/plain": [
       "('0', 2)"
      ]
     },
     "execution_count": 7,
     "metadata": {},
     "output_type": "execute_result"
    }
   ],
   "source": [
    "conv(0,2)"
   ]
  },
  {
   "cell_type": "code",
   "execution_count": null,
   "id": "d903ae99",
   "metadata": {},
   "outputs": [],
   "source": []
  }
 ],
 "metadata": {
  "kernelspec": {
   "display_name": "Python 3 (ipykernel)",
   "language": "python",
   "name": "python3"
  },
  "language_info": {
   "codemirror_mode": {
    "name": "ipython",
    "version": 3
   },
   "file_extension": ".py",
   "mimetype": "text/x-python",
   "name": "python",
   "nbconvert_exporter": "python",
   "pygments_lexer": "ipython3",
   "version": "3.9.13"
  }
 },
 "nbformat": 4,
 "nbformat_minor": 5
}
